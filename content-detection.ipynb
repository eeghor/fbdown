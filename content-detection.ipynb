{
 "cells": [
  {
   "cell_type": "code",
   "execution_count": 27,
   "metadata": {},
   "outputs": [],
   "source": [
    "import google.cloud.vision as gcv\n",
    "from google.oauth2 import service_account\n",
    "from google.protobuf.json_format import MessageToDict\n",
    "import json\n",
    "import langcodes"
   ]
  },
  {
   "cell_type": "code",
   "execution_count": 3,
   "metadata": {},
   "outputs": [],
   "source": [
    "web_detection_params = gcv.types.WebDetectionParams(include_geo_results=True)\n",
    "image_context = gcv.types.ImageContext(web_detection_params=web_detection_params)"
   ]
  },
  {
   "cell_type": "code",
   "execution_count": 4,
   "metadata": {},
   "outputs": [],
   "source": [
    "# credentials must be loaded as below, otherwise there will be an error\n",
    "credentials = service_account.Credentials.from_service_account_file('credentials/ArnottsAU-7991416de13b.json')"
   ]
  },
  {
   "cell_type": "code",
   "execution_count": 5,
   "metadata": {},
   "outputs": [],
   "source": [
    "client = gcv.ImageAnnotatorClient(credentials=credentials)"
   ]
  },
  {
   "cell_type": "code",
   "execution_count": 7,
   "metadata": {},
   "outputs": [],
   "source": [
    "# read image file as binary\n",
    "img = gcv.types.Image(content=open('pictures/picture_582887468579563.jpg', 'rb').read())"
   ]
  },
  {
   "cell_type": "code",
   "execution_count": 8,
   "metadata": {},
   "outputs": [],
   "source": [
    "f = open('pictures/picture_582887468579563.jpg', 'rb').read()\n",
    "\n",
    "r = MessageToDict(client.annotate_image({'image': \n",
    "                       {'content': f}, 'image_context': image_context}), \n",
    "                  preserving_proto_field_name = True)"
   ]
  },
  {
   "cell_type": "code",
   "execution_count": 9,
   "metadata": {},
   "outputs": [],
   "source": [
    "face_feats = 'joy sorrow anger surprise under_exposed blurred headwear'.split()"
   ]
  },
  {
   "cell_type": "code",
   "execution_count": 16,
   "metadata": {},
   "outputs": [],
   "source": [
    "def count(what):\n",
    "    _ = r.get(f'{what}_annotations', None)\n",
    "    print(f'found {len(_) if _ else 0} {what}(s)')"
   ]
  },
  {
   "cell_type": "markdown",
   "metadata": {},
   "source": [
    "### Face"
   ]
  },
  {
   "cell_type": "code",
   "execution_count": 17,
   "metadata": {},
   "outputs": [
    {
     "name": "stdout",
     "output_type": "stream",
     "text": [
      "found 1 face(s)\n"
     ]
    }
   ],
   "source": [
    "count('face')"
   ]
  },
  {
   "cell_type": "code",
   "execution_count": 18,
   "metadata": {},
   "outputs": [
    {
     "name": "stdout",
     "output_type": "stream",
     "text": [
      "joy: VERY_UNLIKELY\n",
      "sorrow: VERY_UNLIKELY\n",
      "anger: VERY_UNLIKELY\n",
      "surprise: VERY_UNLIKELY\n",
      "under_exposed: VERY_UNLIKELY\n",
      "blurred: VERY_UNLIKELY\n",
      "headwear: VERY_UNLIKELY\n"
     ]
    }
   ],
   "source": [
    "for e in face_feats:\n",
    "    print(f'{e}: {r[\"face_annotations\"][0].get(e + \"_likelihood\", None)}')"
   ]
  },
  {
   "cell_type": "markdown",
   "metadata": {},
   "source": [
    "### Logos"
   ]
  },
  {
   "cell_type": "code",
   "execution_count": 19,
   "metadata": {},
   "outputs": [
    {
     "name": "stdout",
     "output_type": "stream",
     "text": [
      "found 0 logo(s)\n"
     ]
    }
   ],
   "source": [
    "count('logo')"
   ]
  },
  {
   "cell_type": "code",
   "execution_count": 189,
   "metadata": {},
   "outputs": [
    {
     "data": {
      "text/plain": [
       "'Tim Tam'"
      ]
     },
     "execution_count": 189,
     "metadata": {},
     "output_type": "execute_result"
    }
   ],
   "source": [
    "r['logo_annotations'][0]['description']"
   ]
  },
  {
   "cell_type": "markdown",
   "metadata": {},
   "source": [
    "### Labels"
   ]
  },
  {
   "cell_type": "code",
   "execution_count": 20,
   "metadata": {},
   "outputs": [
    {
     "name": "stdout",
     "output_type": "stream",
     "text": [
      "found 10 label(s)\n"
     ]
    }
   ],
   "source": [
    "count('label')"
   ]
  },
  {
   "cell_type": "code",
   "execution_count": 21,
   "metadata": {},
   "outputs": [
    {
     "name": "stdout",
     "output_type": "stream",
     "text": [
      "blue, score: 0.9681232571601868\n",
      "pink, score: 0.9571918845176697\n",
      "red, score: 0.9551005959510803\n",
      "shoulder, score: 0.8600255250930786\n",
      "fun, score: 0.8313401937484741\n",
      "girl, score: 0.7911158204078674\n",
      "standing, score: 0.7800707221031189\n",
      "arm, score: 0.7518427968025208\n",
      "human body, score: 0.7411763668060303\n",
      "mouth, score: 0.6754465103149414\n"
     ]
    }
   ],
   "source": [
    "for l in r['label_annotations']:\n",
    "    print(f'{l[\"description\"]}, score: {l[\"score\"]}')"
   ]
  },
  {
   "cell_type": "markdown",
   "metadata": {},
   "source": [
    "### Text in Picture"
   ]
  },
  {
   "cell_type": "code",
   "execution_count": 22,
   "metadata": {},
   "outputs": [
    {
     "name": "stdout",
     "output_type": "stream",
     "text": [
      "found 3 text(s)\n"
     ]
    }
   ],
   "source": [
    "count('text')"
   ]
  },
  {
   "cell_type": "code",
   "execution_count": 29,
   "metadata": {},
   "outputs": [
    {
     "name": "stdout",
     "output_type": "stream",
     "text": [
      "#1 -- language: Cebuano, text: non SA\n",
      "\n",
      "#2 -- language: ?, text: non\n",
      "#3 -- language: ?, text: SA\n"
     ]
    }
   ],
   "source": [
    "for i, t in enumerate(r['text_annotations'], 1):\n",
    "    print(f'#{i} -- language: {langcodes.Language.make(language=t[\"locale\"]).language_name() if \"locale\" in t  else \"?\"}, text: {t[\"description\"]}')"
   ]
  },
  {
   "cell_type": "markdown",
   "metadata": {},
   "source": [
    "### Restricted Themes"
   ]
  },
  {
   "cell_type": "code",
   "execution_count": 24,
   "metadata": {},
   "outputs": [
    {
     "data": {
      "text/plain": [
       "{'adult': 'UNLIKELY',\n",
       " 'spoof': 'VERY_UNLIKELY',\n",
       " 'medical': 'VERY_UNLIKELY',\n",
       " 'violence': 'VERY_UNLIKELY',\n",
       " 'racy': 'POSSIBLE'}"
      ]
     },
     "execution_count": 24,
     "metadata": {},
     "output_type": "execute_result"
    }
   ],
   "source": [
    "r['safe_search_annotation']"
   ]
  },
  {
   "cell_type": "markdown",
   "metadata": {},
   "source": [
    "### Colors\n",
    "higher \"scores\" means higher confidence that the color in question is prominent in the central focus of the image"
   ]
  },
  {
   "cell_type": "code",
   "execution_count": 25,
   "metadata": {},
   "outputs": [
    {
     "name": "stdout",
     "output_type": "stream",
     "text": [
      "{'red': 164.0, 'green': 200.0, 'blue': 202.0} 0.12246666848659515 0.1612282544374466\n",
      "{'red': 106.0, 'green': 121.0, 'blue': 124.0} 0.13046666979789734 0.10734815895557404\n",
      "{'red': 197.0, 'green': 68.0, 'blue': 90.0} 0.041866667568683624 0.06679261475801468\n",
      "{'red': 15.0, 'green': 16.0, 'blue': 33.0} 0.030266666784882545 0.04429831728339195\n",
      "{'red': 14.0, 'green': 24.0, 'blue': 159.0} 0.0019333333475515246 0.011289363726973534\n",
      "{'red': 50.0, 'green': 66.0, 'blue': 190.0} 0.0007999999797903001 0.004694235511124134\n",
      "{'red': 27.0, 'green': 35.0, 'blue': 130.0} 0.0007999999797903001 0.003713528160005808\n",
      "{'red': 136.0, 'green': 167.0, 'blue': 169.0} 0.12460000067949295 0.11548937112092972\n",
      "{'red': 34.0, 'green': 50.0, 'blue': 201.0} 0.00013333333481568843 0.0008799362694844604\n",
      "{'red': 130.0, 'green': 149.0, 'blue': 242.0} 0.00019999999494757503 0.0007876573945395648\n"
     ]
    }
   ],
   "source": [
    "for c in r['image_properties_annotation']['dominant_colors']['colors']:\n",
    "    print(c['color'], c['pixel_fraction'], c['score'])"
   ]
  },
  {
   "cell_type": "code",
   "execution_count": 26,
   "metadata": {},
   "outputs": [
    {
     "data": {
      "text/plain": [
       "[{'language_code': 'ceb', 'confidence': 1.0}]"
      ]
     },
     "execution_count": 26,
     "metadata": {},
     "output_type": "execute_result"
    }
   ],
   "source": [
    "r['full_text_annotation']['pages'][0]['property']['detected_languages']"
   ]
  },
  {
   "cell_type": "markdown",
   "metadata": {},
   "source": [
    "### Full Text Annotations"
   ]
  },
  {
   "cell_type": "code",
   "execution_count": 199,
   "metadata": {},
   "outputs": [
    {
     "name": "stdout",
     "output_type": "stream",
     "text": [
      "pages:  1\n"
     ]
    }
   ],
   "source": [
    "print('pages: ', len(r['full_text_annotation']['pages']))"
   ]
  },
  {
   "cell_type": "code",
   "execution_count": 200,
   "metadata": {},
   "outputs": [
    {
     "name": "stdout",
     "output_type": "stream",
     "text": [
      "[{'language_code': 'en', 'confidence': 0.7699999809265137}]\n"
     ]
    }
   ],
   "source": [
    "for p in range(len(r['full_text_annotation']['pages'])):\n",
    "    print(r['full_text_annotation']['pages'][p]['property']['detected_languages'])"
   ]
  },
  {
   "cell_type": "code",
   "execution_count": 201,
   "metadata": {},
   "outputs": [
    {
     "data": {
      "text/plain": [
       "'TimTam\\nSuper Scrummy\\nChocolate Tim Tam\\nMilkshake\\nREARNOTTS\\nTimTam\\nORIGINAL\\n'"
      ]
     },
     "execution_count": 201,
     "metadata": {},
     "output_type": "execute_result"
    }
   ],
   "source": [
    "r['full_text_annotation']['text']"
   ]
  },
  {
   "cell_type": "markdown",
   "metadata": {},
   "source": [
    "### Web Detection\n",
    "This one gives us \n",
    "* web_entities\n",
    "* visually_similar_images\n",
    "* best_guess_labels\n",
    "Note: there's an overall relevancy score for the entity, not normalized and not comparable across different image queries."
   ]
  },
  {
   "cell_type": "code",
   "execution_count": 202,
   "metadata": {},
   "outputs": [
    {
     "name": "stdout",
     "output_type": "stream",
     "text": [
      "web entities found: 10\n"
     ]
    }
   ],
   "source": [
    "web_ents = len(r['web_detection']['web_entities'])\n",
    "print(f'web entities found: {web_ents}')"
   ]
  },
  {
   "cell_type": "code",
   "execution_count": 203,
   "metadata": {},
   "outputs": [
    {
     "name": "stdout",
     "output_type": "stream",
     "text": [
      "entity: Sundae, score: 1.578178882598877\n",
      "entity: Tim Tam, score: 0.8896999955177307\n",
      "entity: Liqueur, score: 0.8364270329475403\n",
      "entity: ?, score: 0.6556000113487244\n",
      "entity: Arnott's Biscuits, score: 0.6057000160217285\n",
      "entity: Chocolate, score: 0.5485801696777344\n",
      "entity: Flavor by Bob Holmes, Jonathan Yen (narrator) (9781515966647), score: 0.5430999994277954\n",
      "entity: Biscuit, score: 0.5418000221252441\n",
      "entity: Spain, score: 0.5078999996185303\n",
      "entity: United Arab Emirates, score: 0.5071499943733215\n"
     ]
    }
   ],
   "source": [
    "for e in r['web_detection']['web_entities']:\n",
    "    print(f'entity: {e[\"description\"] if \"description\" in e else \"?\"}, score: {e[\"score\"]}')"
   ]
  },
  {
   "cell_type": "code",
   "execution_count": 204,
   "metadata": {},
   "outputs": [
    {
     "name": "stdout",
     "output_type": "stream",
     "text": [
      "visually_similar_images found: 10\n"
     ]
    }
   ],
   "source": [
    "sim_imgs = len(r['web_detection']['visually_similar_images'])\n",
    "print(f'visually_similar_images found: {sim_imgs}')"
   ]
  },
  {
   "cell_type": "code",
   "execution_count": 205,
   "metadata": {},
   "outputs": [
    {
     "data": {
      "text/plain": [
       "[{'url': 'https://lookaside.fbsbx.com/lookaside/crawler/media/?media_id=1916596088657356'},\n",
       " {'url': 'https://s314.siliconimg.com/kb/content_images/2017/12/13/1496558/1513170699_709.jpg'},\n",
       " {'url': 'http://www.uhainiu.com/content/images/thumbs/000/0000678_timtam-187g.jpeg'},\n",
       " {'url': 'https://cbu01.alicdn.com/img/ibank/2017/452/396/4547693254_937679173.jpg'},\n",
       " {'url': 'http://www.totallytarget.com/wp-content/uploads/2016/02/tim-tam-1.jpg'},\n",
       " {'url': 'https://wx1.sinaimg.cn/orj360/006YBhA8gy1fm1dmmcd4aj31he0u0aep.jpg'},\n",
       " {'url': 'https://www.campbellsoupcompany.com/wp-content/uploads/sites/31/2013/11/Tim-Tam-Chocolicious.jpg'},\n",
       " {'url': 'https://s1.bukalapak.com/img/139947173/large/Biskuit_Tim_Tam_Chocolate_100g_x_3_pcs.jpg'},\n",
       " {'url': 'https://media.apnarm.net.au/media/images/2014/02/16/tim_tam_50_years-lre5y1mnzhl8vk6nnh2_fct621x468_ct677x380.JPG'},\n",
       " {'url': 'https://www.c-store.com.au/wp-content/uploads/2015/07/Tim-Tam.jpg'}]"
      ]
     },
     "execution_count": 205,
     "metadata": {},
     "output_type": "execute_result"
    }
   ],
   "source": [
    "r['web_detection']['visually_similar_images']"
   ]
  },
  {
   "cell_type": "code",
   "execution_count": 206,
   "metadata": {},
   "outputs": [
    {
     "data": {
      "text/plain": [
       "[{'label': 'tim tam', 'language_code': 'en'}]"
      ]
     },
     "execution_count": 206,
     "metadata": {},
     "output_type": "execute_result"
    }
   ],
   "source": [
    "r['web_detection']['best_guess_labels']"
   ]
  },
  {
   "cell_type": "markdown",
   "metadata": {},
   "source": [
    "### Localized Objects"
   ]
  },
  {
   "cell_type": "code",
   "execution_count": 207,
   "metadata": {},
   "outputs": [
    {
     "name": "stdout",
     "output_type": "stream",
     "text": [
      "Drink, score: 0.5362362265586853\n"
     ]
    }
   ],
   "source": [
    "for o in r['localized_object_annotations']:\n",
    "    print(f'{o[\"name\"]}, score: {o[\"score\"]}')"
   ]
  },
  {
   "cell_type": "code",
   "execution_count": null,
   "metadata": {},
   "outputs": [],
   "source": []
  }
 ],
 "metadata": {
  "kernelspec": {
   "display_name": "Python 3",
   "language": "python",
   "name": "python3"
  },
  "language_info": {
   "codemirror_mode": {
    "name": "ipython",
    "version": 3
   },
   "file_extension": ".py",
   "mimetype": "text/x-python",
   "name": "python",
   "nbconvert_exporter": "python",
   "pygments_lexer": "ipython3",
   "version": "3.6.6"
  }
 },
 "nbformat": 4,
 "nbformat_minor": 2
}
