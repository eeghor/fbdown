{
 "cells": [
  {
   "cell_type": "code",
   "execution_count": 88,
   "metadata": {},
   "outputs": [],
   "source": [
    "import google.cloud.vision as gcv\n",
    "from google.oauth2 import service_account\n",
    "from google.protobuf.json_format import MessageToDict\n",
    "import json"
   ]
  },
  {
   "cell_type": "code",
   "execution_count": 155,
   "metadata": {},
   "outputs": [],
   "source": [
    "web_detection_params = gcv.types.WebDetectionParams(include_geo_results=True)\n",
    "image_context = gcv.types.ImageContext(web_detection_params=web_detection_params)"
   ]
  },
  {
   "cell_type": "code",
   "execution_count": 16,
   "metadata": {},
   "outputs": [],
   "source": [
    "# credentials must be loaded as below, otherwise there will be an error\n",
    "credentials = service_account.Credentials.from_service_account_file('credentials/ArnottsAU-7991416de13b.json')"
   ]
  },
  {
   "cell_type": "code",
   "execution_count": 16,
   "metadata": {},
   "outputs": [],
   "source": [
    "client = gcv.ImageAnnotatorClient(credentials=credentials)"
   ]
  },
  {
   "cell_type": "code",
   "execution_count": 182,
   "metadata": {},
   "outputs": [],
   "source": [
    "# read image file as binary\n",
    "img = gcv.types.Image(content=open('pictures/picture_1722024574542749.jpg', 'rb').read())"
   ]
  },
  {
   "cell_type": "code",
   "execution_count": 183,
   "metadata": {},
   "outputs": [],
   "source": [
    "f = open('pictures/picture_1722024574542749.jpg', 'rb').read()\n",
    "\n",
    "r = MessageToDict(client.annotate_image({'image': \n",
    "                       {'content': f}, 'image_context': image_context}), \n",
    "                  preserving_proto_field_name = True)"
   ]
  },
  {
   "cell_type": "code",
   "execution_count": 184,
   "metadata": {},
   "outputs": [],
   "source": [
    "face_feats = 'joy sorrow anger surprise under_exposed blurred headwear'.split()"
   ]
  },
  {
   "cell_type": "code",
   "execution_count": 185,
   "metadata": {},
   "outputs": [
    {
     "data": {
      "text/plain": [
       "['logo_annotations',\n",
       " 'label_annotations',\n",
       " 'text_annotations',\n",
       " 'safe_search_annotation',\n",
       " 'image_properties_annotation',\n",
       " 'crop_hints_annotation',\n",
       " 'full_text_annotation',\n",
       " 'web_detection',\n",
       " 'localized_object_annotations']"
      ]
     },
     "execution_count": 185,
     "metadata": {},
     "output_type": "execute_result"
    }
   ],
   "source": [
    "list(r)"
   ]
  },
  {
   "cell_type": "markdown",
   "metadata": {},
   "source": [
    "### Face"
   ]
  },
  {
   "cell_type": "code",
   "execution_count": 186,
   "metadata": {},
   "outputs": [
    {
     "name": "stdout",
     "output_type": "stream",
     "text": [
      "found 0 face(s)\n"
     ]
    }
   ],
   "source": [
    "n_faces = len(r['face_annotations']) if 'face_annotations' in r else 0\n",
    "print(f'found {n_faces} face(s)')"
   ]
  },
  {
   "cell_type": "code",
   "execution_count": 187,
   "metadata": {},
   "outputs": [
    {
     "ename": "KeyError",
     "evalue": "'face_annotations'",
     "output_type": "error",
     "traceback": [
      "\u001b[0;31m---------------------------------------------------------------------------\u001b[0m",
      "\u001b[0;31mKeyError\u001b[0m                                  Traceback (most recent call last)",
      "\u001b[0;32m<ipython-input-187-537f23f3aad9>\u001b[0m in \u001b[0;36m<module>\u001b[0;34m()\u001b[0m\n\u001b[1;32m      1\u001b[0m \u001b[0;32mfor\u001b[0m \u001b[0me\u001b[0m \u001b[0;32min\u001b[0m \u001b[0mface_feats\u001b[0m\u001b[0;34m:\u001b[0m\u001b[0;34m\u001b[0m\u001b[0m\n\u001b[0;32m----> 2\u001b[0;31m     \u001b[0mprint\u001b[0m\u001b[0;34m(\u001b[0m\u001b[0;34mf'{e}: {r[\"face_annotations\"][0].get(e + \"_likelihood\", None)}'\u001b[0m\u001b[0;34m)\u001b[0m\u001b[0;34m\u001b[0m\u001b[0m\n\u001b[0m",
      "\u001b[0;31mKeyError\u001b[0m: 'face_annotations'"
     ]
    }
   ],
   "source": [
    "for e in face_feats:\n",
    "    print(f'{e}: {r[\"face_annotations\"][0].get(e + \"_likelihood\", None)}')"
   ]
  },
  {
   "cell_type": "markdown",
   "metadata": {},
   "source": [
    "### Logos"
   ]
  },
  {
   "cell_type": "code",
   "execution_count": 188,
   "metadata": {},
   "outputs": [
    {
     "name": "stdout",
     "output_type": "stream",
     "text": [
      "found 1 logo(s)\n"
     ]
    }
   ],
   "source": [
    "n_logos = len(r['logo_annotations']) if 'logo_annotations' in r else 0\n",
    "print(f'found {n_logos} logo(s)')"
   ]
  },
  {
   "cell_type": "code",
   "execution_count": 189,
   "metadata": {},
   "outputs": [
    {
     "data": {
      "text/plain": [
       "'Tim Tam'"
      ]
     },
     "execution_count": 189,
     "metadata": {},
     "output_type": "execute_result"
    }
   ],
   "source": [
    "r['logo_annotations'][0]['description']"
   ]
  },
  {
   "cell_type": "markdown",
   "metadata": {},
   "source": [
    "### Labels"
   ]
  },
  {
   "cell_type": "code",
   "execution_count": 190,
   "metadata": {},
   "outputs": [
    {
     "name": "stdout",
     "output_type": "stream",
     "text": [
      "found 8 label(s)\n"
     ]
    }
   ],
   "source": [
    "n_labels= len(r['label_annotations']) if 'label_annotations' in r else 0\n",
    "print(f'found {n_labels} label(s)')"
   ]
  },
  {
   "cell_type": "code",
   "execution_count": 193,
   "metadata": {},
   "outputs": [
    {
     "name": "stdout",
     "output_type": "stream",
     "text": [
      "drink, score: 0.7965183854103088\n",
      "food, score: 0.7143707275390625\n",
      "sundae, score: 0.6274505853652954\n",
      "liqueur, score: 0.6033880114555359\n",
      "dairy product, score: 0.5961754322052002\n",
      "font, score: 0.5572941303253174\n",
      "chocolate, score: 0.5479716658592224\n",
      "dessert, score: 0.5367579460144043\n"
     ]
    }
   ],
   "source": [
    "for l in r['label_annotations']:\n",
    "    print(f'{l[\"description\"]}, score: {l[\"score\"]}')"
   ]
  },
  {
   "cell_type": "markdown",
   "metadata": {},
   "source": [
    "### Text in Picture"
   ]
  },
  {
   "cell_type": "code",
   "execution_count": 194,
   "metadata": {},
   "outputs": [
    {
     "name": "stdout",
     "output_type": "stream",
     "text": [
      "found 11 text(s)\n"
     ]
    }
   ],
   "source": [
    "n_texts = len(r['text_annotations']) if 'text_annotations' in r else 0\n",
    "print(f'found {n_texts} text(s)')"
   ]
  },
  {
   "cell_type": "code",
   "execution_count": 195,
   "metadata": {},
   "outputs": [
    {
     "name": "stdout",
     "output_type": "stream",
     "text": [
      "#1 -- language: en, text: TimTam\n",
      "Super Scrummy\n",
      "Chocolate Tim Tam\n",
      "Milkshake\n",
      "REARNOTTS\n",
      "TimTam\n",
      "ORIGINAL\n",
      "\n",
      "#2 -- language: ?, text: TimTam\n",
      "#3 -- language: ?, text: Super\n",
      "#4 -- language: ?, text: Scrummy\n",
      "#5 -- language: ?, text: Chocolate\n",
      "#6 -- language: ?, text: Tim\n",
      "#7 -- language: ?, text: Tam\n",
      "#8 -- language: ?, text: Milkshake\n",
      "#9 -- language: ?, text: REARNOTTS\n",
      "#10 -- language: ?, text: TimTam\n",
      "#11 -- language: ?, text: ORIGINAL\n"
     ]
    }
   ],
   "source": [
    "for i, t in enumerate(r['text_annotations'], 1):\n",
    "    print(f'#{i} -- language: {t[\"locale\"] if \"locale\" in t  else \"?\"}, text: {t[\"description\"]}')"
   ]
  },
  {
   "cell_type": "markdown",
   "metadata": {},
   "source": [
    "### Restricted Themes"
   ]
  },
  {
   "cell_type": "code",
   "execution_count": 196,
   "metadata": {},
   "outputs": [
    {
     "data": {
      "text/plain": [
       "{'adult': 'UNLIKELY',\n",
       " 'spoof': 'UNLIKELY',\n",
       " 'medical': 'VERY_UNLIKELY',\n",
       " 'violence': 'VERY_UNLIKELY',\n",
       " 'racy': 'VERY_LIKELY'}"
      ]
     },
     "execution_count": 196,
     "metadata": {},
     "output_type": "execute_result"
    }
   ],
   "source": [
    "r['safe_search_annotation']"
   ]
  },
  {
   "cell_type": "markdown",
   "metadata": {},
   "source": [
    "### Colors\n",
    "higher \"scores\" means higher confidence that the color in question is prominent in the central focus of the image"
   ]
  },
  {
   "cell_type": "code",
   "execution_count": 197,
   "metadata": {},
   "outputs": [
    {
     "name": "stdout",
     "output_type": "stream",
     "text": [
      "{'red': 194.0, 'green': 138.0, 'blue': 86.0} 0.02287253551185131 0.20439013838768005\n",
      "{'red': 216.0, 'green': 193.0, 'blue': 168.0} 0.013833089731633663 0.04273355007171631\n",
      "{'red': 14.0, 'green': 8.0, 'blue': 8.0} 0.5066198110580444 0.03537030890583992\n",
      "{'red': 124.0, 'green': 114.0, 'blue': 114.0} 0.0221877284348011 0.00440334714949131\n",
      "{'red': 167.0, 'green': 111.0, 'blue': 65.0} 0.027711832895874977 0.17405693233013153\n",
      "{'red': 119.0, 'green': 72.0, 'blue': 35.0} 0.051132213324308395 0.13442160189151764\n",
      "{'red': 192.0, 'green': 143.0, 'blue': 117.0} 0.012372169643640518 0.03823941946029663\n",
      "{'red': 110.0, 'green': 72.0, 'blue': 47.0} 0.035609934478998184 0.0373784676194191\n",
      "{'red': 203.0, 'green': 136.0, 'blue': 67.0} 0.0018261504592373967 0.03437772020697594\n",
      "{'red': 84.0, 'green': 45.0, 'blue': 25.0} 0.030542366206645966 0.028653955087065697\n"
     ]
    }
   ],
   "source": [
    "for c in r['image_properties_annotation']['dominant_colors']['colors']:\n",
    "    print(c['color'], c['pixel_fraction'], c['score'])"
   ]
  },
  {
   "cell_type": "code",
   "execution_count": 198,
   "metadata": {},
   "outputs": [
    {
     "data": {
      "text/plain": [
       "[{'language_code': 'en', 'confidence': 0.7699999809265137}]"
      ]
     },
     "execution_count": 198,
     "metadata": {},
     "output_type": "execute_result"
    }
   ],
   "source": [
    "r['full_text_annotation']['pages'][0]['property']['detected_languages']"
   ]
  },
  {
   "cell_type": "markdown",
   "metadata": {},
   "source": [
    "### Full Text Annotations"
   ]
  },
  {
   "cell_type": "code",
   "execution_count": 199,
   "metadata": {},
   "outputs": [
    {
     "name": "stdout",
     "output_type": "stream",
     "text": [
      "pages:  1\n"
     ]
    }
   ],
   "source": [
    "print('pages: ', len(r['full_text_annotation']['pages']))"
   ]
  },
  {
   "cell_type": "code",
   "execution_count": 200,
   "metadata": {},
   "outputs": [
    {
     "name": "stdout",
     "output_type": "stream",
     "text": [
      "[{'language_code': 'en', 'confidence': 0.7699999809265137}]\n"
     ]
    }
   ],
   "source": [
    "for p in range(len(r['full_text_annotation']['pages'])):\n",
    "    print(r['full_text_annotation']['pages'][p]['property']['detected_languages'])"
   ]
  },
  {
   "cell_type": "code",
   "execution_count": 201,
   "metadata": {},
   "outputs": [
    {
     "data": {
      "text/plain": [
       "'TimTam\\nSuper Scrummy\\nChocolate Tim Tam\\nMilkshake\\nREARNOTTS\\nTimTam\\nORIGINAL\\n'"
      ]
     },
     "execution_count": 201,
     "metadata": {},
     "output_type": "execute_result"
    }
   ],
   "source": [
    "r['full_text_annotation']['text']"
   ]
  },
  {
   "cell_type": "markdown",
   "metadata": {},
   "source": [
    "### Web Detection\n",
    "This one gives us \n",
    "* web_entities\n",
    "* visually_similar_images\n",
    "* best_guess_labels\n",
    "Note: there's an overall relevancy score for the entity, not normalized and not comparable across different image queries."
   ]
  },
  {
   "cell_type": "code",
   "execution_count": 202,
   "metadata": {},
   "outputs": [
    {
     "name": "stdout",
     "output_type": "stream",
     "text": [
      "web entities found: 10\n"
     ]
    }
   ],
   "source": [
    "web_ents = len(r['web_detection']['web_entities'])\n",
    "print(f'web entities found: {web_ents}')"
   ]
  },
  {
   "cell_type": "code",
   "execution_count": 203,
   "metadata": {},
   "outputs": [
    {
     "name": "stdout",
     "output_type": "stream",
     "text": [
      "entity: Sundae, score: 1.578178882598877\n",
      "entity: Tim Tam, score: 0.8896999955177307\n",
      "entity: Liqueur, score: 0.8364270329475403\n",
      "entity: ?, score: 0.6556000113487244\n",
      "entity: Arnott's Biscuits, score: 0.6057000160217285\n",
      "entity: Chocolate, score: 0.5485801696777344\n",
      "entity: Flavor by Bob Holmes, Jonathan Yen (narrator) (9781515966647), score: 0.5430999994277954\n",
      "entity: Biscuit, score: 0.5418000221252441\n",
      "entity: Spain, score: 0.5078999996185303\n",
      "entity: United Arab Emirates, score: 0.5071499943733215\n"
     ]
    }
   ],
   "source": [
    "for e in r['web_detection']['web_entities']:\n",
    "    print(f'entity: {e[\"description\"] if \"description\" in e else \"?\"}, score: {e[\"score\"]}')"
   ]
  },
  {
   "cell_type": "code",
   "execution_count": 204,
   "metadata": {},
   "outputs": [
    {
     "name": "stdout",
     "output_type": "stream",
     "text": [
      "visually_similar_images found: 10\n"
     ]
    }
   ],
   "source": [
    "sim_imgs = len(r['web_detection']['visually_similar_images'])\n",
    "print(f'visually_similar_images found: {sim_imgs}')"
   ]
  },
  {
   "cell_type": "code",
   "execution_count": 205,
   "metadata": {},
   "outputs": [
    {
     "data": {
      "text/plain": [
       "[{'url': 'https://lookaside.fbsbx.com/lookaside/crawler/media/?media_id=1916596088657356'},\n",
       " {'url': 'https://s314.siliconimg.com/kb/content_images/2017/12/13/1496558/1513170699_709.jpg'},\n",
       " {'url': 'http://www.uhainiu.com/content/images/thumbs/000/0000678_timtam-187g.jpeg'},\n",
       " {'url': 'https://cbu01.alicdn.com/img/ibank/2017/452/396/4547693254_937679173.jpg'},\n",
       " {'url': 'http://www.totallytarget.com/wp-content/uploads/2016/02/tim-tam-1.jpg'},\n",
       " {'url': 'https://wx1.sinaimg.cn/orj360/006YBhA8gy1fm1dmmcd4aj31he0u0aep.jpg'},\n",
       " {'url': 'https://www.campbellsoupcompany.com/wp-content/uploads/sites/31/2013/11/Tim-Tam-Chocolicious.jpg'},\n",
       " {'url': 'https://s1.bukalapak.com/img/139947173/large/Biskuit_Tim_Tam_Chocolate_100g_x_3_pcs.jpg'},\n",
       " {'url': 'https://media.apnarm.net.au/media/images/2014/02/16/tim_tam_50_years-lre5y1mnzhl8vk6nnh2_fct621x468_ct677x380.JPG'},\n",
       " {'url': 'https://www.c-store.com.au/wp-content/uploads/2015/07/Tim-Tam.jpg'}]"
      ]
     },
     "execution_count": 205,
     "metadata": {},
     "output_type": "execute_result"
    }
   ],
   "source": [
    "r['web_detection']['visually_similar_images']"
   ]
  },
  {
   "cell_type": "code",
   "execution_count": 206,
   "metadata": {},
   "outputs": [
    {
     "data": {
      "text/plain": [
       "[{'label': 'tim tam', 'language_code': 'en'}]"
      ]
     },
     "execution_count": 206,
     "metadata": {},
     "output_type": "execute_result"
    }
   ],
   "source": [
    "r['web_detection']['best_guess_labels']"
   ]
  },
  {
   "cell_type": "markdown",
   "metadata": {},
   "source": [
    "### Localized Objects"
   ]
  },
  {
   "cell_type": "code",
   "execution_count": 207,
   "metadata": {},
   "outputs": [
    {
     "name": "stdout",
     "output_type": "stream",
     "text": [
      "Drink, score: 0.5362362265586853\n"
     ]
    }
   ],
   "source": [
    "for o in r['localized_object_annotations']:\n",
    "    print(f'{o[\"name\"]}, score: {o[\"score\"]}')"
   ]
  },
  {
   "cell_type": "code",
   "execution_count": null,
   "metadata": {},
   "outputs": [],
   "source": []
  }
 ],
 "metadata": {
  "kernelspec": {
   "display_name": "Python 3",
   "language": "python",
   "name": "python3"
  },
  "language_info": {
   "codemirror_mode": {
    "name": "ipython",
    "version": 3
   },
   "file_extension": ".py",
   "mimetype": "text/x-python",
   "name": "python",
   "nbconvert_exporter": "python",
   "pygments_lexer": "ipython3",
   "version": "3.6.6"
  }
 },
 "nbformat": 4,
 "nbformat_minor": 2
}
